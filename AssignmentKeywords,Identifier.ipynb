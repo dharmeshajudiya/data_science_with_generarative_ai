{
 "cells": [
  {
   "cell_type": "markdown",
   "id": "284cb5a7-f87b-4cbf-b65d-8d5d278ba162",
   "metadata": {},
   "source": [
    "#### 1. Explain the significance of Python keywords and provide examples of five keywords"
   ]
  },
  {
   "cell_type": "markdown",
   "id": "d6ef79b7-99c0-45ec-bc77-c024aa1d884b",
   "metadata": {},
   "source": [
    "Ans: Python keywords is reserved words that have special meaning to the interpreter, so you can not user as variable name or object name in python."
   ]
  },
  {
   "cell_type": "markdown",
   "id": "647d576b-ed8a-43e4-8c96-561f7fb2f810",
   "metadata": {},
   "source": [
    "Example: for, if, while, else, elif, continue, break, in"
   ]
  },
  {
   "cell_type": "markdown",
   "id": "208c58da-720e-4f74-a1d1-62156ffab568",
   "metadata": {
    "tags": []
   },
   "source": [
    "#### 2. Describe the rules for defining identifiers in Python and provide an example"
   ]
  },
  {
   "cell_type": "markdown",
   "id": "227530b6-aa16-431d-90c2-b3917347e782",
   "metadata": {},
   "source": [
    "Ans: Rule of defining identifiers \n",
    "1. Can be combination of letters, digits and underscore\n",
    "2. Cannot start with digit \n",
    "3. Cannot be resverd keywords like if, for, etc\n",
    "4. Should be descriptive and meaningful"
   ]
  },
  {
   "cell_type": "markdown",
   "id": "d285dc6a-9c11-404a-920d-2051db9e56b6",
   "metadata": {},
   "source": [
    "Example: list_of_car, employee_details, personal_infomration"
   ]
  },
  {
   "cell_type": "markdown",
   "id": "58a5ce52-0573-4769-ad5f-86c9dea04178",
   "metadata": {},
   "source": [
    "#### 3.What are comments in Python, and why are they useful? Provide an example"
   ]
  },
  {
   "cell_type": "markdown",
   "id": "9b52280e-56ff-41b4-82ff-c7cd657e7863",
   "metadata": {},
   "source": [
    "Ans: Comment is use to explain your business logic and it help to other develope to understand your code well. \n",
    "In python comment start with #, python ignore comment will compile code"
   ]
  },
  {
   "cell_type": "code",
   "execution_count": 2,
   "id": "bdcde08f-bce5-41c2-92a4-30a452e92c25",
   "metadata": {},
   "outputs": [
    {
     "name": "stdout",
     "output_type": "stream",
     "text": [
      "Employee Name: Dharmesh\n"
     ]
    }
   ],
   "source": [
    "# Example of comment in pyhton\n",
    "emp_name = \"Dharmesh\"\n",
    "# This line is help to print information of employe name\n",
    "print(f'Employee Name: {emp_name}')"
   ]
  },
  {
   "cell_type": "code",
   "execution_count": 7,
   "id": "51fe4703-e3e9-4084-b49a-c00984dbc6c1",
   "metadata": {},
   "outputs": [
    {
     "name": "stdout",
     "output_type": "stream",
     "text": [
      "This is my business logic\n"
     ]
    }
   ],
   "source": [
    "\"\"\"\n",
    "    Also you can use multiline comment\n",
    "    This will help when you explain your business logic in details\n",
    "\"\"\"\n",
    "print(\"This is my business logic\")"
   ]
  },
  {
   "cell_type": "markdown",
   "id": "fb3a5a57-907b-43e6-b22c-1f3b9c93f16e",
   "metadata": {},
   "source": [
    "#### 4. Why is proper indentation important in Python?"
   ]
  },
  {
   "cell_type": "markdown",
   "id": "50a0118b-97cd-46af-9593-2949b2cff4c7",
   "metadata": {},
   "source": [
    "Ans: Proper indenation is used to define the structure of code in other programming language like java we use {} to define structue, python use indentation for that, it use indenation to group statements togather "
   ]
  },
  {
   "cell_type": "code",
   "execution_count": 10,
   "id": "f5c96153-f51d-425a-9ff4-c8b493b35393",
   "metadata": {},
   "outputs": [
    {
     "name": "stdout",
     "output_type": "stream",
     "text": [
      "1\n",
      "2\n",
      "3\n"
     ]
    }
   ],
   "source": [
    "for no in {1, 2, 3}:\n",
    "    print (no)"
   ]
  },
  {
   "cell_type": "markdown",
   "id": "27cd69f3-9d13-49ac-8116-6c4fbf49e0f5",
   "metadata": {},
   "source": [
    "#### 5. What happens if indentation is incorrect in Python?"
   ]
  },
  {
   "cell_type": "markdown",
   "id": "b68cefcc-a700-4817-9b04-f1fdd6ec7209",
   "metadata": {},
   "source": [
    "Ans: If identation is incorrect, the code will not run and the interpreter return error "
   ]
  },
  {
   "cell_type": "code",
   "execution_count": 11,
   "id": "b1d320df-25a1-4af7-818d-631ddc37b71c",
   "metadata": {},
   "outputs": [
    {
     "ename": "IndentationError",
     "evalue": "expected an indented block after 'for' statement on line 1 (1909584889.py, line 2)",
     "output_type": "error",
     "traceback": [
      "\u001b[0;36m  Cell \u001b[0;32mIn[11], line 2\u001b[0;36m\u001b[0m\n\u001b[0;31m    print (no)\u001b[0m\n\u001b[0m    ^\u001b[0m\n\u001b[0;31mIndentationError\u001b[0m\u001b[0;31m:\u001b[0m expected an indented block after 'for' statement on line 1\n"
     ]
    }
   ],
   "source": [
    "for no in {1, 2, 3}:\n",
    "print (no)"
   ]
  },
  {
   "cell_type": "markdown",
   "id": "25bc8f55-0e56-4ca6-b0d2-c8829e27d399",
   "metadata": {},
   "source": [
    "#### 6. Differentiate between expression and statement in Python with examples"
   ]
  },
  {
   "cell_type": "markdown",
   "id": "8faecc19-521d-4ef1-b8d3-9123d8e80c48",
   "metadata": {},
   "source": [
    "Ans: Statement is unit of code that performa some action in python where as expression is a combination of symboles (+, -, >) that evalute single value"
   ]
  }
 ],
 "metadata": {
  "kernelspec": {
   "display_name": "Python 3 (ipykernel)",
   "language": "python",
   "name": "python3"
  },
  "language_info": {
   "codemirror_mode": {
    "name": "ipython",
    "version": 3
   },
   "file_extension": ".py",
   "mimetype": "text/x-python",
   "name": "python",
   "nbconvert_exporter": "python",
   "pygments_lexer": "ipython3",
   "version": "3.10.8"
  }
 },
 "nbformat": 4,
 "nbformat_minor": 5
}
