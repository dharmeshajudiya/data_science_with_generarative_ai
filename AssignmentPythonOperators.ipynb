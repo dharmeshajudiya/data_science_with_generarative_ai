{
 "cells": [
  {
   "cell_type": "markdown",
   "id": "a2a840c8-e658-4789-a5a4-a3b1b1fd43df",
   "metadata": {},
   "source": [
    "1. Calculate the sum, difference, product, and quotient of two numbers."
   ]
  },
  {
   "cell_type": "code",
   "execution_count": 6,
   "id": "b4f39dad-8654-4c78-9046-cfbacf918091",
   "metadata": {},
   "outputs": [
    {
     "name": "stdout",
     "output_type": "stream",
     "text": [
      "Sum: 15\n",
      "Difference: 5\n",
      "Product: 50\n",
      "Quotient: 2.0\n"
     ]
    }
   ],
   "source": [
    "num1 = 10\n",
    "num2 = 5\n",
    "\n",
    "add = num1 + num2\n",
    "diff = num1 - num2\n",
    "product = num1 * num2\n",
    "quotient = num1 / num2\n",
    "\n",
    "print(f\"Sum: {add}\")\n",
    "print(f\"Difference: {diff}\")\n",
    "print(f\"Product: {product}\")\n",
    "print(f\"Quotient: {quotient}\")\n",
    "\n",
    "del num1, num2, add, diff, product, quotient"
   ]
  },
  {
   "cell_type": "markdown",
   "id": "a2dc271d-fef1-454f-a560-7eaaf3257df2",
   "metadata": {},
   "source": [
    "2. Perform various assignment operations on a variable."
   ]
  },
  {
   "cell_type": "code",
   "execution_count": 13,
   "id": "61e7ac7a-469d-4928-922f-252be2fe9bc0",
   "metadata": {},
   "outputs": [
    {
     "name": "stdout",
     "output_type": "stream",
     "text": [
      "Num 1: 15\n"
     ]
    }
   ],
   "source": [
    "num1 = 5\n",
    "num1 += 10\n",
    "print(f\"Num 1: {num1}\")"
   ]
  },
  {
   "cell_type": "code",
   "execution_count": 14,
   "id": "f90bb7c0-defd-4a0f-8081-0a1982f5bc24",
   "metadata": {},
   "outputs": [
    {
     "name": "stdout",
     "output_type": "stream",
     "text": [
      "Num 1: 10\n"
     ]
    }
   ],
   "source": [
    "num1 -= 5\n",
    "print(f\"Num 1: {num1}\")"
   ]
  },
  {
   "cell_type": "code",
   "execution_count": 15,
   "id": "f1fe8983-b5a2-4164-9aa9-c1e9f65ca2c0",
   "metadata": {},
   "outputs": [
    {
     "name": "stdout",
     "output_type": "stream",
     "text": [
      "Num 1: 100\n"
     ]
    }
   ],
   "source": [
    "num1 *= 10\n",
    "print(f\"Num 1: {num1}\")"
   ]
  },
  {
   "cell_type": "code",
   "execution_count": 16,
   "id": "b91aedc5-8124-4747-b559-4b1b47996866",
   "metadata": {},
   "outputs": [
    {
     "name": "stdout",
     "output_type": "stream",
     "text": [
      "Num 1: 50.0\n"
     ]
    }
   ],
   "source": [
    "num1 /= 2\n",
    "print(f\"Num 1: {num1}\")"
   ]
  },
  {
   "cell_type": "code",
   "execution_count": 19,
   "id": "2caa58c9-ec3f-4415-b3a7-3bcc68c1c46f",
   "metadata": {},
   "outputs": [
    {
     "name": "stdout",
     "output_type": "stream",
     "text": [
      "Num 1: 3.0\n"
     ]
    }
   ],
   "source": [
    "num1 //= 2.5\n",
    "print(f\"Num 1: {num1}\")"
   ]
  },
  {
   "cell_type": "code",
   "execution_count": 20,
   "id": "0e07fd45-a230-4341-b016-53f7a6ee651c",
   "metadata": {},
   "outputs": [],
   "source": [
    "del num1"
   ]
  },
  {
   "cell_type": "markdown",
   "id": "a93a74b9-b6ed-4108-91e6-6575dc63c3ab",
   "metadata": {},
   "source": [
    "3. Compare two numbers and print the results."
   ]
  },
  {
   "cell_type": "code",
   "execution_count": 30,
   "id": "5e7a4278-f751-4cdb-88ed-774844bfae46",
   "metadata": {},
   "outputs": [
    {
     "name": "stdout",
     "output_type": "stream",
     "text": [
      "Both number are not identical\n"
     ]
    }
   ],
   "source": [
    "num1 = 10\n",
    "num2 = 5\n",
    "\n",
    "if num1 == num2:\n",
    "    print(\"Both number are identical\")\n",
    "else:\n",
    "    print(\"Both number are not identical\")\n",
    "\n",
    "del num1, num2"
   ]
  },
  {
   "cell_type": "markdown",
   "id": "47e7bfeb-3fc7-4db6-be9f-660c0b04859c",
   "metadata": {},
   "source": [
    "4. Check conditions using logical operators."
   ]
  },
  {
   "cell_type": "code",
   "execution_count": 28,
   "id": "d79673fd-87b9-4525-a1de-eb5d70ea70f7",
   "metadata": {},
   "outputs": [
    {
     "name": "stdout",
     "output_type": "stream",
     "text": [
      "10 is greater than 5\n"
     ]
    }
   ],
   "source": [
    "num1 = 10\n",
    "num2 = 5\n",
    "\n",
    "if num1 > num2: \n",
    "    print(f\"{num1} is greater than {num2}\")\n",
    "else:\n",
    "    print(f\"{num1} is less than {num2}\")\n",
    "\n",
    "del num1, num2"
   ]
  },
  {
   "cell_type": "markdown",
   "id": "116d986b-e4fa-4986-977f-e49dfe48083a",
   "metadata": {},
   "source": [
    "5. Check the identity of Variables."
   ]
  },
  {
   "cell_type": "code",
   "execution_count": 36,
   "id": "f14bc07f-2ab1-47ad-ba5e-f6dbe4e7f291",
   "metadata": {},
   "outputs": [
    {
     "name": "stdout",
     "output_type": "stream",
     "text": [
      "type of num1 is <class 'int'> and id is 140094614241808\n",
      "type of num1 is <class 'str'> and id is 140094266010416\n",
      "type of num1 is <class 'float'> and id is 140094519404432\n",
      "type of num1 is <class 'int'> and id is 140094614241520\n"
     ]
    }
   ],
   "source": [
    "num1 = 10\n",
    "name = \"Dharmesh\"\n",
    "percentage = 85.62\n",
    "is_pass = 1\n",
    "\n",
    "print(f\"type of num1 is {type(num1)} and id is {id(num1)}\")\n",
    "print(f\"type of num1 is {type(name)} and id is {id(name)}\")\n",
    "print(f\"type of num1 is {type(percentage)} and id is {id(percentage)}\")\n",
    "print(f\"type of num1 is {type(is_pass)} and id is {id(is_pass)}\")\n",
    "\n",
    "del num1, name, percentage, is_pass"
   ]
  },
  {
   "cell_type": "markdown",
   "id": "1d676b48-73f2-4086-bcba-14df4f50fca3",
   "metadata": {},
   "source": [
    "6. Perform bitwise operations on any two integers."
   ]
  },
  {
   "cell_type": "code",
   "execution_count": 47,
   "id": "0d3936e6-9b27-4b71-bc6d-53d7529a1261",
   "metadata": {},
   "outputs": [
    {
     "name": "stdout",
     "output_type": "stream",
     "text": [
      "Binary of 5 is 0b101\n",
      "Binary of 1 is 0b1\n",
      "Binary of 2 is 0b10\n",
      "Binary of 10 is 0b1010\n"
     ]
    }
   ],
   "source": [
    "num1 = 5\n",
    "num2 = 1\n",
    "\n",
    "print(f\"Binary of {num1} is {bin(num1)}\")\n",
    "print(f\"Binary of {num2} is {bin(num2)}\")\n",
    "\n",
    "num3 = num1 >> num2\n",
    "\n",
    "print(f\"Binary of {num3} is {bin(num3)}\")\n",
    "\n",
    "num3 = num1 << num2\n",
    "\n",
    "print(f\"Binary of {num3} is {bin(num3)}\")\n",
    "\n",
    "del num1, num2, num3"
   ]
  },
  {
   "cell_type": "markdown",
   "id": "68586d61-2e48-4839-abc3-bdc1ce155308",
   "metadata": {},
   "source": [
    "7. Use Unary operators to change the sign of a number."
   ]
  },
  {
   "cell_type": "code",
   "execution_count": 51,
   "id": "39f9df3c-bf0b-4f48-ac9d-e5c6921eb272",
   "metadata": {},
   "outputs": [
    {
     "name": "stdout",
     "output_type": "stream",
     "text": [
      "10\n",
      "-10\n"
     ]
    }
   ],
   "source": [
    "num1 = 10\n",
    "\n",
    "print(num1)\n",
    "print(-num1)\n",
    "\n",
    "del num1"
   ]
  },
  {
   "cell_type": "markdown",
   "id": "58199016-760e-4e6c-bfa6-37934e1ec7f8",
   "metadata": {},
   "source": [
    "8. Use the ternary operator to assign values based on conditions."
   ]
  },
  {
   "cell_type": "code",
   "execution_count": 57,
   "id": "50253b25-e00f-4438-ba6f-47885c4694b6",
   "metadata": {},
   "outputs": [
    {
     "name": "stdin",
     "output_type": "stream",
     "text": [
      "Enter Value:  6\n"
     ]
    },
    {
     "name": "stdout",
     "output_type": "stream",
     "text": [
      "Result: 3.0\n"
     ]
    }
   ],
   "source": [
    "# if num1 is greater than 10 than assign full value of num1 else assign half value of num1 to result\n",
    "\n",
    "num1 = int(input(\"Enter Value: \"))\n",
    "\n",
    "if num1 >= 10:\n",
    "    result = num1\n",
    "else: \n",
    "    result = num1/2\n",
    "    \n",
    "print(f\"Result: {result}\")"
   ]
  }
 ],
 "metadata": {
  "kernelspec": {
   "display_name": "Python 3 (ipykernel)",
   "language": "python",
   "name": "python3"
  },
  "language_info": {
   "codemirror_mode": {
    "name": "ipython",
    "version": 3
   },
   "file_extension": ".py",
   "mimetype": "text/x-python",
   "name": "python",
   "nbconvert_exporter": "python",
   "pygments_lexer": "ipython3",
   "version": "3.10.8"
  }
 },
 "nbformat": 4,
 "nbformat_minor": 5
}
