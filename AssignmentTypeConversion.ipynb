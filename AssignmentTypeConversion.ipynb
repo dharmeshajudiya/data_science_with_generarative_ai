{
 "cells": [
  {
   "cell_type": "markdown",
   "id": "1ef8ec34-16f8-4812-a19f-296d6498580c",
   "metadata": {},
   "source": [
    "1. Convert a integer to a floatig-point number."
   ]
  },
  {
   "cell_type": "code",
   "execution_count": 2,
   "id": "05c338db-37a3-47e4-93f0-da6a903da50f",
   "metadata": {},
   "outputs": [
    {
     "data": {
      "text/plain": [
       "int"
      ]
     },
     "execution_count": 2,
     "metadata": {},
     "output_type": "execute_result"
    }
   ],
   "source": [
    "int_num = 1\n",
    "type(int_num)"
   ]
  },
  {
   "cell_type": "code",
   "execution_count": 3,
   "id": "1df43672-65cd-4789-bbaf-ce4dd845a4e8",
   "metadata": {},
   "outputs": [
    {
     "data": {
      "text/plain": [
       "float"
      ]
     },
     "execution_count": 3,
     "metadata": {},
     "output_type": "execute_result"
    }
   ],
   "source": [
    "float_num = float(int_num)\n",
    "type(float_num)"
   ]
  },
  {
   "cell_type": "code",
   "execution_count": 4,
   "id": "fbd69a0d-22b2-4278-99d6-afd27bc51d34",
   "metadata": {},
   "outputs": [
    {
     "name": "stdout",
     "output_type": "stream",
     "text": [
      "1.0\n"
     ]
    }
   ],
   "source": [
    "print(float_num)"
   ]
  },
  {
   "cell_type": "markdown",
   "id": "96094120-30c9-444a-83c7-63d5ebd35245",
   "metadata": {},
   "source": [
    "2. Convert a float to a integer."
   ]
  },
  {
   "cell_type": "code",
   "execution_count": 6,
   "id": "a57d36f0-8db5-4743-b745-3edcceac0123",
   "metadata": {},
   "outputs": [
    {
     "data": {
      "text/plain": [
       "float"
      ]
     },
     "execution_count": 6,
     "metadata": {},
     "output_type": "execute_result"
    }
   ],
   "source": [
    "float_num = 2.5\n",
    "type(float_num)"
   ]
  },
  {
   "cell_type": "code",
   "execution_count": 8,
   "id": "e2437736-312a-4bfd-a133-3e5738655643",
   "metadata": {},
   "outputs": [
    {
     "data": {
      "text/plain": [
       "int"
      ]
     },
     "execution_count": 8,
     "metadata": {},
     "output_type": "execute_result"
    }
   ],
   "source": [
    "int_num = int(float_num)\n",
    "type(int_num)"
   ]
  },
  {
   "cell_type": "code",
   "execution_count": 10,
   "id": "e2077300-c65a-43d4-9537-ebf693ec8bfa",
   "metadata": {},
   "outputs": [
    {
     "name": "stdout",
     "output_type": "stream",
     "text": [
      "2\n"
     ]
    }
   ],
   "source": [
    "print(int_num)"
   ]
  },
  {
   "cell_type": "markdown",
   "id": "c247ecb8-100a-42f4-b83c-a964778a670c",
   "metadata": {},
   "source": [
    "3. Convert a integer to a strig."
   ]
  },
  {
   "cell_type": "code",
   "execution_count": 11,
   "id": "3b822ba5-0dff-4da6-a497-d3eca0f87cf6",
   "metadata": {},
   "outputs": [
    {
     "data": {
      "text/plain": [
       "int"
      ]
     },
     "execution_count": 11,
     "metadata": {},
     "output_type": "execute_result"
    }
   ],
   "source": [
    "int_num = 125\n",
    "type(int_num)"
   ]
  },
  {
   "cell_type": "code",
   "execution_count": 12,
   "id": "58fc414d-1ff0-4bf7-b6cd-0d95b6c35d98",
   "metadata": {},
   "outputs": [
    {
     "data": {
      "text/plain": [
       "str"
      ]
     },
     "execution_count": 12,
     "metadata": {},
     "output_type": "execute_result"
    }
   ],
   "source": [
    "str_num = str(int_num)\n",
    "type(str_num)"
   ]
  },
  {
   "cell_type": "code",
   "execution_count": 23,
   "id": "2097eb1b-fc52-4f90-9c2a-e24f1bea2b93",
   "metadata": {},
   "outputs": [
    {
     "name": "stdout",
     "output_type": "stream",
     "text": [
      "125\n"
     ]
    }
   ],
   "source": [
    "print(str_num)"
   ]
  },
  {
   "cell_type": "markdown",
   "id": "defb362b-a29d-4e71-a7d4-d21c170fe749",
   "metadata": {},
   "source": [
    "4. Convert a list to a tuple."
   ]
  },
  {
   "cell_type": "code",
   "execution_count": 28,
   "id": "41d49cae-d7fa-4d9f-9b6f-24e02e0d91b6",
   "metadata": {},
   "outputs": [
    {
     "data": {
      "text/plain": [
       "list"
      ]
     },
     "execution_count": 28,
     "metadata": {},
     "output_type": "execute_result"
    }
   ],
   "source": [
    "name_list = [\"Ram\", \"Krishna\", \"Mahadev\"]\n",
    "type(name_list)"
   ]
  },
  {
   "cell_type": "code",
   "execution_count": 30,
   "id": "44d4817f-49ec-4986-8666-6335864c05b5",
   "metadata": {},
   "outputs": [
    {
     "data": {
      "text/plain": [
       "tuple"
      ]
     },
     "execution_count": 30,
     "metadata": {},
     "output_type": "execute_result"
    }
   ],
   "source": [
    "name_tuple = tuple(name_list)\n",
    "type(name_tuple)"
   ]
  },
  {
   "cell_type": "code",
   "execution_count": 31,
   "id": "c54f6c6d-0795-49c9-994b-ddd460182e83",
   "metadata": {},
   "outputs": [
    {
     "name": "stdout",
     "output_type": "stream",
     "text": [
      "('Ram', 'Krishna', 'Mahadev')\n"
     ]
    }
   ],
   "source": [
    "print(name_tuple)"
   ]
  },
  {
   "cell_type": "markdown",
   "id": "5415243b-dc4e-4930-b663-3ac95b009338",
   "metadata": {},
   "source": [
    "5. Convert a tuple to a list."
   ]
  },
  {
   "cell_type": "code",
   "execution_count": 32,
   "id": "16878246-86d6-429e-b8dc-0e0b9f45a61a",
   "metadata": {},
   "outputs": [
    {
     "data": {
      "text/plain": [
       "tuple"
      ]
     },
     "execution_count": 32,
     "metadata": {},
     "output_type": "execute_result"
    }
   ],
   "source": [
    "city_tuple = (\"Rajkot\", \"Vadodara\", \"Jamnagar\")\n",
    "type(city_tuple)"
   ]
  },
  {
   "cell_type": "code",
   "execution_count": 34,
   "id": "276c3414-f119-4166-b6cb-ae492bb508c4",
   "metadata": {},
   "outputs": [
    {
     "data": {
      "text/plain": [
       "list"
      ]
     },
     "execution_count": 34,
     "metadata": {},
     "output_type": "execute_result"
    }
   ],
   "source": [
    "city_list = list(city_tuple)\n",
    "type(city_list)"
   ]
  },
  {
   "cell_type": "code",
   "execution_count": 35,
   "id": "960db7bf-4d47-4c40-9cc8-980fe12f8710",
   "metadata": {},
   "outputs": [
    {
     "name": "stdout",
     "output_type": "stream",
     "text": [
      "['Rajkot', 'Vadodara', 'Jamnagar']\n"
     ]
    }
   ],
   "source": [
    "print(city_list)"
   ]
  },
  {
   "cell_type": "markdown",
   "id": "2aa8faca-1619-441e-9e46-437367146b10",
   "metadata": {},
   "source": [
    "6. Convert a decimal number to binary."
   ]
  },
  {
   "cell_type": "code",
   "execution_count": 36,
   "id": "5224bbe5-1f09-48d0-840b-a4aa08c787cb",
   "metadata": {},
   "outputs": [
    {
     "name": "stdout",
     "output_type": "stream",
     "text": [
      "0b1100\n"
     ]
    }
   ],
   "source": [
    "dec_num = 12\n",
    "bin_num = bin(dec_num)\n",
    "print(bin_num)"
   ]
  },
  {
   "cell_type": "markdown",
   "id": "f8b90322-1f69-4775-962f-edcc6da37347",
   "metadata": {},
   "source": [
    "7. Convert a non-zero number to boolean."
   ]
  },
  {
   "cell_type": "code",
   "execution_count": 26,
   "id": "8e510cb5-53f6-4510-b0f6-e6a6177fbd29",
   "metadata": {},
   "outputs": [
    {
     "data": {
      "text/plain": [
       "bool"
      ]
     },
     "execution_count": 26,
     "metadata": {},
     "output_type": "execute_result"
    }
   ],
   "source": [
    "int_num = 5\n",
    "flag = bool(int_num)\n",
    "type(flag)"
   ]
  },
  {
   "cell_type": "code",
   "execution_count": 27,
   "id": "1827be15-60e8-4c43-bd8f-20e61b81a1fc",
   "metadata": {},
   "outputs": [
    {
     "name": "stdout",
     "output_type": "stream",
     "text": [
      "True\n"
     ]
    }
   ],
   "source": [
    "print(flag)"
   ]
  }
 ],
 "metadata": {
  "kernelspec": {
   "display_name": "Python 3 (ipykernel)",
   "language": "python",
   "name": "python3"
  },
  "language_info": {
   "codemirror_mode": {
    "name": "ipython",
    "version": 3
   },
   "file_extension": ".py",
   "mimetype": "text/x-python",
   "name": "python",
   "nbconvert_exporter": "python",
   "pygments_lexer": "ipython3",
   "version": "3.10.8"
  }
 },
 "nbformat": 4,
 "nbformat_minor": 5
}
