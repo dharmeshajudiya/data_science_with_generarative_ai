{
 "cells": [
  {
   "cell_type": "markdown",
   "id": "81559725-1d3e-4453-97df-599d16d92ad9",
   "metadata": {},
   "source": [
    "#### 1. Print number from 1 to 5 uing a while loop."
   ]
  },
  {
   "cell_type": "code",
   "execution_count": 7,
   "id": "c902716c-ceea-4fe3-aa14-5d4035060b49",
   "metadata": {},
   "outputs": [
    {
     "name": "stdout",
     "output_type": "stream",
     "text": [
      "1\n",
      "2\n",
      "3\n",
      "4\n",
      "5\n"
     ]
    }
   ],
   "source": [
    "number = 1\n",
    "while number <=5:\n",
    "    print(number)\n",
    "    number+=1\n",
    "del number"
   ]
  },
  {
   "cell_type": "markdown",
   "id": "673e797e-d276-402c-a972-87a2189ef9b9",
   "metadata": {},
   "source": [
    "#### 2. Calculate the sum of number from 1 to 10 uing a while loop."
   ]
  },
  {
   "cell_type": "code",
   "execution_count": 10,
   "id": "fcf55df1-b2e9-4af1-97d0-2a13fabd4d8d",
   "metadata": {},
   "outputs": [
    {
     "name": "stdout",
     "output_type": "stream",
     "text": [
      "Sum of numbers from 1 to 10 : 55\n"
     ]
    }
   ],
   "source": [
    "number = 1\n",
    "count = 0\n",
    "\n",
    "while number <= 10:\n",
    "    count += number\n",
    "    number += 1\n",
    "print (f'Sum of numbers from 1 to 10 : {count}')"
   ]
  },
  {
   "cell_type": "markdown",
   "id": "b6f8999b-d752-414f-be27-b51b18c3f00e",
   "metadata": {},
   "source": [
    "#### 3. Caluclate the factorial of a number uing a for loop."
   ]
  },
  {
   "cell_type": "code",
   "execution_count": 16,
   "id": "c561e679-ac95-4ce9-9cba-7cbb5de23af4",
   "metadata": {},
   "outputs": [
    {
     "name": "stdin",
     "output_type": "stream",
     "text": [
      "Please provide number : 10\n"
     ]
    },
    {
     "name": "stdout",
     "output_type": "stream",
     "text": [
      "The factorial number of 10 is 3628800\n"
     ]
    }
   ],
   "source": [
    "number = int(input(\"Please provide number :\"))\n",
    "factorial_number = 1\n",
    "\n",
    "for i in range(1, number+1):\n",
    "    factorial_number *= i\n",
    "print (f'The factorial number of {number} is {factorial_number}')"
   ]
  },
  {
   "cell_type": "markdown",
   "id": "e0995eb5-945d-4e33-bc42-fd006e61e012",
   "metadata": {},
   "source": [
    "#### 4. Count the number of vowels in a string using a for loop."
   ]
  },
  {
   "cell_type": "code",
   "execution_count": 25,
   "id": "6e9b7a1a-65a8-4027-9a27-1084cfd56353",
   "metadata": {},
   "outputs": [
    {
     "name": "stdin",
     "output_type": "stream",
     "text": [
      "Please provide string :  aeiouw\n"
     ]
    },
    {
     "name": "stdout",
     "output_type": "stream",
     "text": [
      "Number of vowels found in string aeiouw is 5\n"
     ]
    }
   ],
   "source": [
    "string = input(\"Please provide string : \")\n",
    "vowels = ['a', 'e', 'i', 'o', 'u']\n",
    "count = 0\n",
    "\n",
    "for char in string.lower():\n",
    "    if char in vowels:\n",
    "        count+=1\n",
    "\n",
    "print(f'Number of vowels found in string {string} is {count}')"
   ]
  },
  {
   "cell_type": "markdown",
   "id": "015bd896-0264-4e88-ac88-62ab91ccc5fc",
   "metadata": {},
   "source": [
    "#### 5. Print a pattern using nested loop."
   ]
  },
  {
   "cell_type": "code",
   "execution_count": 43,
   "id": "3cddbecf-251e-48ad-b9bc-57555400af35",
   "metadata": {},
   "outputs": [
    {
     "name": "stdin",
     "output_type": "stream",
     "text": [
      "Enter size of patter :  10\n"
     ]
    },
    {
     "name": "stdout",
     "output_type": "stream",
     "text": [
      "\n",
      "* \n",
      "* * \n",
      "* * * \n",
      "* * * * \n",
      "* * * * * \n",
      "* * * * * * \n",
      "* * * * * * * \n",
      "* * * * * * * * \n",
      "* * * * * * * * * \n"
     ]
    }
   ],
   "source": [
    "pattern_size = int(input(\"Enter size of patter : \"))\n",
    "for i in range(0, pattern_size): \n",
    "    for j in range(0, i):\n",
    "        print(\"*\",end=\" \")\n",
    "    print()"
   ]
  },
  {
   "cell_type": "markdown",
   "id": "5aff60b2-6998-4717-bead-59446e2bf132",
   "metadata": {},
   "source": [
    "#### 6. Generate a mltiplication table using neted loop.\n"
   ]
  },
  {
   "cell_type": "code",
   "execution_count": 49,
   "id": "9dde149d-bc1c-4315-b37a-b80f122dd62e",
   "metadata": {},
   "outputs": [
    {
     "name": "stdin",
     "output_type": "stream",
     "text": [
      "Enter number for multiplication table :  3\n"
     ]
    },
    {
     "name": "stdout",
     "output_type": "stream",
     "text": [
      "1 * 1 = 1\n",
      "1 * 2 = 2\n",
      "1 * 3 = 3\n",
      "1 * 4 = 4\n",
      "1 * 5 = 5\n",
      "1 * 6 = 6\n",
      "1 * 7 = 7\n",
      "1 * 8 = 8\n",
      "1 * 9 = 9\n",
      "1 * 10 = 10\n",
      "\n",
      "2 * 1 = 2\n",
      "2 * 2 = 4\n",
      "2 * 3 = 6\n",
      "2 * 4 = 8\n",
      "2 * 5 = 10\n",
      "2 * 6 = 12\n",
      "2 * 7 = 14\n",
      "2 * 8 = 16\n",
      "2 * 9 = 18\n",
      "2 * 10 = 20\n",
      "\n",
      "3 * 1 = 3\n",
      "3 * 2 = 6\n",
      "3 * 3 = 9\n",
      "3 * 4 = 12\n",
      "3 * 5 = 15\n",
      "3 * 6 = 18\n",
      "3 * 7 = 21\n",
      "3 * 8 = 24\n",
      "3 * 9 = 27\n",
      "3 * 10 = 30\n",
      "\n"
     ]
    }
   ],
   "source": [
    "size = int(input(\"Enter number for multiplication table : \"))\n",
    "for i in range(1, size+1): \n",
    "    for j in range(1, 11):\n",
    "        print(f'{i} * {j} = {i * j}')\n",
    "    print()"
   ]
  },
  {
   "cell_type": "code",
   "execution_count": null,
   "id": "aaa5c203-5a5d-4ee3-9d65-b311c9114495",
   "metadata": {},
   "outputs": [],
   "source": []
  }
 ],
 "metadata": {
  "kernelspec": {
   "display_name": "Python 3 (ipykernel)",
   "language": "python",
   "name": "python3"
  },
  "language_info": {
   "codemirror_mode": {
    "name": "ipython",
    "version": 3
   },
   "file_extension": ".py",
   "mimetype": "text/x-python",
   "name": "python",
   "nbconvert_exporter": "python",
   "pygments_lexer": "ipython3",
   "version": "3.10.8"
  }
 },
 "nbformat": 4,
 "nbformat_minor": 5
}
